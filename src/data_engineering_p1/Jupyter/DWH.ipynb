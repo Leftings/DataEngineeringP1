{
 "cells": [
  {
   "cell_type": "code",
   "execution_count": 1,
   "metadata": {},
   "outputs": [],
   "source": [
    "import pyodbc\n",
    "import sqlite3 as sql\n",
    "import pandas as pd\n",
    "import warnings\n",
    "import numpy as np\n",
    "from datetime import datetime\n",
    "import os\n",
    "from dotenv import load_dotenv\n",
    "\n",
    "warnings.simplefilter('ignore')"
   ]
  },
  {
   "cell_type": "markdown",
   "metadata": {},
   "source": [
    "Load in .env file for safe connection"
   ]
  },
  {
   "cell_type": "code",
   "execution_count": 2,
   "metadata": {},
   "outputs": [],
   "source": [
    "class EnvConfig:\n",
    "    def __init__(self):\n",
    "        load_dotenv()\n",
    "    \n",
    "    def get(self, key: str) -> str:\n",
    "\n",
    "        value = os.getenv(key)\n",
    "        if not value:\n",
    "            print(f\"Warning: {key} not found in environment\")\n",
    "        return value\n",
    "    \n",
    "    def is_configured(self) -> bool:\n",
    "        required_keys = [\"DB_SERVER\", \"DB_NAME_SDM\", \"DB_NAME_DWH\", \"DB_USER\", \"DB_PASSWORD\"]\n",
    "        return all(self.get(key) for key in required_keys)"
   ]
  },
  {
   "cell_type": "markdown",
   "metadata": {},
   "source": [
    "Safe connection"
   ]
  },
  {
   "cell_type": "code",
   "execution_count": 3,
   "metadata": {},
   "outputs": [],
   "source": [
    "env = EnvConfig()\n",
    "\n",
    "SDM_CONN_PATH = (\n",
    "    f\"DRIVER={{SQL Server}};\"\n",
    "    f\"SERVER={env.get('DB_SERVER')},1433;\"\n",
    "    f\"DATABASE={env.get('DB_NAME_SDM')};\"\n",
    "    f\"UID={env.get('DB_USER')};\"\n",
    "    f\"PWD={env.get('DB_PASSWORD')}\"\n",
    ")\n",
    "\n",
    "DWH_CONN_PATH = (\n",
    "    f\"DRIVER={{SQL Server}};\"\n",
    "    f\"SERVER={env.get('DB_SERVER')},1433;\"\n",
    "    f\"DATABASE={env.get('DB_NAME_DWH')};\"\n",
    "    f\"UID={env.get('DB_USER')};\"\n",
    "    f\"PWD={env.get('DB_PASSWORD')}\"\n",
    ")\n",
    "\n",
    "FROM_DB = pyodbc.connect(SDM_CONN_PATH)\n",
    "SDM_cursor = FROM_DB.cursor()\n",
    "\n",
    "TO_DB = pyodbc.connect(DWH_CONN_PATH)\n",
    "DWH_cursor = TO_DB.cursor()"
   ]
  },
  {
   "cell_type": "markdown",
   "metadata": {},
   "source": [
    "Dataframes"
   ]
  },
  {
   "cell_type": "code",
   "execution_count": 4,
   "metadata": {},
   "outputs": [],
   "source": [
    "def create_dataframes_sql(connection):\n",
    "    dictionary : dict = {}\n",
    "    query = \"SELECT TABLE_NAME FROM INFORMATION_SCHEMA.TABLES WHERE TABLE_TYPE = 'BASE TABLE';\"\n",
    "    key = \"TABLE_NAME\"\n",
    "    \n",
    "    tables = pd.read_sql(query, connection)\n",
    "    \n",
    "    for table in tables[key].tolist():\n",
    "        dictionary[table] = pd.read_sql(f\"SELECT * FROM {table}\", connection)\n",
    "    \n",
    "    return dictionary\n",
    "\n",
    "sdm_frames = create_dataframes_sql(FROM_DB)"
   ]
  },
  {
   "cell_type": "markdown",
   "metadata": {},
   "source": [
    "Query's"
   ]
  },
  {
   "cell_type": "code",
   "execution_count": 5,
   "metadata": {},
   "outputs": [],
   "source": [
    "from typing import Iterable\n",
    "\n",
    "def query_remove(table_name : str):\n",
    "    try:\n",
    "        query = f\"DELETE FROM {table_name}\"\n",
    "        DWH_cursor.execute(query)\n",
    "        DWH_cursor.commit()\n",
    "    except pyodbc.Error as e:\n",
    "        print(f\"ERROR: {table_name}: {e}\")\n",
    "        return table_name\n",
    "    \n",
    "    return None\n",
    "\n",
    "def right_type(value, column_name, types):\n",
    "    dtype = types[column_name]\n",
    "    \n",
    "    if pd.isna(value):\n",
    "        return \"NULL\"\n",
    "    \n",
    "    if dtype == \"object\" or dtype == \"string\":\n",
    "        value = value.replace(\"'\", \"''\")\n",
    "        return f\"'{value}'\"\n",
    "    \n",
    "    return f\"{value}\"\n",
    "    \n",
    "\n",
    "def create_add_query(row, types):\n",
    "    query = \"\"\n",
    "    columns = list(row.keys())\n",
    "    \n",
    "    for pos in range(len(columns)):\n",
    "        column_name = columns[pos]\n",
    "        value = row[column_name]\n",
    "        \n",
    "        if (pos == len(columns) - 1):\n",
    "            query += f\"{column_name}) VALUES (\"\n",
    "        else:\n",
    "            query += f\"{column_name}, \"\n",
    "    \n",
    "    data = list(row)\n",
    "    \n",
    "    for pos in range(len(data)):\n",
    "        column_name = columns[pos]\n",
    "        value = row[column_name]\n",
    "        \n",
    "        if pos == len(columns) - 1:\n",
    "            query += f\"{right_type(value, column_name, types)})\"\n",
    "        else:\n",
    "            query += f\"{right_type(value, column_name, types)}, \"\n",
    "    \n",
    "    return query\n",
    "\n",
    "def query_add(table_name : str, table_data : pd.DataFrame):\n",
    "    queries = []\n",
    "    types = table_data.dtypes\n",
    "\n",
    "    for index, row in table_data.iterrows():\n",
    "        query : str = f\"INSERT INTO {table_name} (\"\n",
    "        query += create_add_query(row, types)\n",
    "        queries.append(query)\n",
    "    \n",
    "    return queries"
   ]
  },
  {
   "cell_type": "markdown",
   "metadata": {},
   "source": [
    "Maak het DWH leeg"
   ]
  },
  {
   "cell_type": "code",
   "execution_count": 6,
   "metadata": {},
   "outputs": [
    {
     "name": "stdout",
     "output_type": "stream",
     "text": [
      "ERROR: DimProduct: ('23000', '[23000] [Microsoft][ODBC SQL Server Driver][SQL Server]The DELETE statement conflicted with the REFERENCE constraint \"FK__FactSales__Produ__4316F928\". The conflict occurred in database \"Datawarehouse_DEDS_P1\", table \"dbo.FactSales\", column \\'ProductID\\'. (547) (SQLExecDirectW); [23000] [Microsoft][ODBC SQL Server Driver][SQL Server]The statement has been terminated. (3621)')\n",
      "NOT YET REMOVED: DimProduct\n",
      "ERROR: DimCustomer: ('23000', '[23000] [Microsoft][ODBC SQL Server Driver][SQL Server]The DELETE statement conflicted with the REFERENCE constraint \"FK__FactSales__Custo__412EB0B6\". The conflict occurred in database \"Datawarehouse_DEDS_P1\", table \"dbo.FactSales\", column \\'CustomerID\\'. (547) (SQLExecDirectW); [23000] [Microsoft][ODBC SQL Server Driver][SQL Server]The statement has been terminated. (3621)')\n",
      "NOT YET REMOVED: DimCustomer\n",
      "ERROR: DimEmployee: ('23000', '[23000] [Microsoft][ODBC SQL Server Driver][SQL Server]The DELETE statement conflicted with the REFERENCE constraint \"FK__FactSales__EmpID__4222D4EF\". The conflict occurred in database \"Datawarehouse_DEDS_P1\", table \"dbo.FactSales\", column \\'EmpID\\'. (547) (SQLExecDirectW); [23000] [Microsoft][ODBC SQL Server Driver][SQL Server]The statement has been terminated. (3621)')\n",
      "NOT YET REMOVED: DimEmployee\n",
      "ERROR: DimDate: ('23000', '[23000] [Microsoft][ODBC SQL Server Driver][SQL Server]The DELETE statement conflicted with the REFERENCE constraint \"FK__FactSales__Order__44FF419A\". The conflict occurred in database \"Datawarehouse_DEDS_P1\", table \"dbo.FactSales\", column \\'OrderDate\\'. (547) (SQLExecDirectW); [23000] [Microsoft][ODBC SQL Server Driver][SQL Server]The statement has been terminated. (3621)')\n",
      "NOT YET REMOVED: DimDate\n",
      "ERROR: DimTerritory: ('23000', '[23000] [Microsoft][ODBC SQL Server Driver][SQL Server]The DELETE statement conflicted with the REFERENCE constraint \"FK__FactSales__Terri__440B1D61\". The conflict occurred in database \"Datawarehouse_DEDS_P1\", table \"dbo.FactSales\", column \\'TerritoryID\\'. (547) (SQLExecDirectW); [23000] [Microsoft][ODBC SQL Server Driver][SQL Server]The statement has been terminated. (3621)')\n",
      "NOT YET REMOVED: DimTerritory\n",
      "REMOVED FactSales\n",
      "REMOVED DimProduct\n",
      "REMOVED DimEmployee\n",
      "REMOVED DimTerritory\n",
      "REMOVED DimCustomer\n",
      "REMOVED DimDate\n",
      "All items are removed\n"
     ]
    }
   ],
   "source": [
    "def empty_dwh():\n",
    "    tables_dwh : list = [\n",
    "        \"DimProduct\",\n",
    "        \"DimCustomer\",\n",
    "        \"DimEmployee\",\n",
    "        \"DimDate\",\n",
    "        \"DimTerritory\",\n",
    "        \"FactSales\",\n",
    "    ]\n",
    "\n",
    "    while len(tables_dwh) > 0:\n",
    "        for table in tables_dwh:\n",
    "            try:\n",
    "                temp = query_remove(table)\n",
    "                \n",
    "                if (temp == None):\n",
    "                    tables_dwh.remove(table)\n",
    "                    print(f\"REMOVED {table}\")\n",
    "                else:\n",
    "                    print(f\"NOT YET REMOVED: {table}\")\n",
    "            except pyodbc.Error as e:\n",
    "                print(e)\n",
    "        \n",
    "    print(\"All items are removed\")\n",
    "\n",
    "empty_dwh()"
   ]
  },
  {
   "cell_type": "markdown",
   "metadata": {},
   "source": [
    "Datum converter"
   ]
  },
  {
   "cell_type": "code",
   "execution_count": null,
   "metadata": {},
   "outputs": [],
   "source": []
  },
  {
   "cell_type": "code",
   "execution_count": null,
   "metadata": {},
   "outputs": [],
   "source": []
  },
  {
   "cell_type": "markdown",
   "metadata": {},
   "source": [
    "Dataframes aanmaken"
   ]
  },
  {
   "cell_type": "code",
   "execution_count": 49,
   "metadata": {},
   "outputs": [
    {
     "ename": "KeyError",
     "evalue": "'Costs'",
     "output_type": "error",
     "traceback": [
      "\u001b[1;31m---------------------------------------------------------------------------\u001b[0m",
      "\u001b[1;31mKeyError\u001b[0m                                  Traceback (most recent call last)",
      "File \u001b[1;32mc:\\Prog\\DataEngineeringP1-1\\.venv\\Lib\\site-packages\\pandas\\core\\indexes\\base.py:3805\u001b[0m, in \u001b[0;36mIndex.get_loc\u001b[1;34m(self, key)\u001b[0m\n\u001b[0;32m   3804\u001b[0m \u001b[38;5;28;01mtry\u001b[39;00m:\n\u001b[1;32m-> 3805\u001b[0m     \u001b[38;5;28;01mreturn\u001b[39;00m \u001b[38;5;28;43mself\u001b[39;49m\u001b[38;5;241;43m.\u001b[39;49m\u001b[43m_engine\u001b[49m\u001b[38;5;241;43m.\u001b[39;49m\u001b[43mget_loc\u001b[49m\u001b[43m(\u001b[49m\u001b[43mcasted_key\u001b[49m\u001b[43m)\u001b[49m\n\u001b[0;32m   3806\u001b[0m \u001b[38;5;28;01mexcept\u001b[39;00m \u001b[38;5;167;01mKeyError\u001b[39;00m \u001b[38;5;28;01mas\u001b[39;00m err:\n",
      "File \u001b[1;32mindex.pyx:167\u001b[0m, in \u001b[0;36mpandas._libs.index.IndexEngine.get_loc\u001b[1;34m()\u001b[0m\n",
      "File \u001b[1;32mindex.pyx:196\u001b[0m, in \u001b[0;36mpandas._libs.index.IndexEngine.get_loc\u001b[1;34m()\u001b[0m\n",
      "File \u001b[1;32mpandas\\\\_libs\\\\hashtable_class_helper.pxi:7081\u001b[0m, in \u001b[0;36mpandas._libs.hashtable.PyObjectHashTable.get_item\u001b[1;34m()\u001b[0m\n",
      "File \u001b[1;32mpandas\\\\_libs\\\\hashtable_class_helper.pxi:7089\u001b[0m, in \u001b[0;36mpandas._libs.hashtable.PyObjectHashTable.get_item\u001b[1;34m()\u001b[0m\n",
      "\u001b[1;31mKeyError\u001b[0m: 'Costs'",
      "\nThe above exception was the direct cause of the following exception:\n",
      "\u001b[1;31mKeyError\u001b[0m                                  Traceback (most recent call last)",
      "Cell \u001b[1;32mIn[49], line 90\u001b[0m\n\u001b[0;32m     72\u001b[0m     fact_sales \u001b[38;5;241m=\u001b[39m fact_sales[[\n\u001b[0;32m     73\u001b[0m         \u001b[38;5;124m\"\u001b[39m\u001b[38;5;124mSalesOrderID\u001b[39m\u001b[38;5;124m\"\u001b[39m,\n\u001b[0;32m     74\u001b[0m         \u001b[38;5;124m\"\u001b[39m\u001b[38;5;124mCustomerID\u001b[39m\u001b[38;5;124m\"\u001b[39m,\n\u001b[1;32m   (...)\u001b[0m\n\u001b[0;32m     85\u001b[0m             \u001b[38;5;124m\"\u001b[39m\u001b[38;5;124mquantity\u001b[39m\u001b[38;5;124m\"\u001b[39m : \u001b[38;5;124m\"\u001b[39m\u001b[38;5;124mQuantity\u001b[39m\u001b[38;5;124m\"\u001b[39m\n\u001b[0;32m     86\u001b[0m         })\n\u001b[0;32m     88\u001b[0m     \u001b[38;5;28;01mreturn\u001b[39;00m fact_sales\n\u001b[1;32m---> 90\u001b[0m fact_sales_dwh \u001b[38;5;241m=\u001b[39m \u001b[43mcreate_fact_sales\u001b[49m\u001b[43m(\u001b[49m\u001b[43m)\u001b[49m\n",
      "Cell \u001b[1;32mIn[49], line 70\u001b[0m, in \u001b[0;36mcreate_fact_sales\u001b[1;34m()\u001b[0m\n\u001b[0;32m     67\u001b[0m fact_sales \u001b[38;5;241m=\u001b[39m pd\u001b[38;5;241m.\u001b[39mmerge(sdm_frames[\u001b[38;5;124m\"\u001b[39m\u001b[38;5;124mSales_SalesOrderDetail\u001b[39m\u001b[38;5;124m\"\u001b[39m], sdm_frames[\u001b[38;5;124m\"\u001b[39m\u001b[38;5;124mSales_SalesOrderHeader\u001b[39m\u001b[38;5;124m\"\u001b[39m], on\u001b[38;5;241m=\u001b[39m\u001b[38;5;124m\"\u001b[39m\u001b[38;5;124mSalesOrderID\u001b[39m\u001b[38;5;124m\"\u001b[39m)\n\u001b[0;32m     69\u001b[0m fact_sales[\u001b[38;5;124m\"\u001b[39m\u001b[38;5;124mTotalSales\u001b[39m\u001b[38;5;124m\"\u001b[39m] \u001b[38;5;241m=\u001b[39m (fact_sales[\u001b[38;5;124m\"\u001b[39m\u001b[38;5;124mUnitPrice\u001b[39m\u001b[38;5;124m\"\u001b[39m] \u001b[38;5;241m*\u001b[39m fact_sales[\u001b[38;5;124m\"\u001b[39m\u001b[38;5;124mquantity\u001b[39m\u001b[38;5;124m\"\u001b[39m]) \u001b[38;5;241m-\u001b[39m fact_sales[\u001b[38;5;124m\"\u001b[39m\u001b[38;5;124mUnitPriceDiscount\u001b[39m\u001b[38;5;124m\"\u001b[39m]\n\u001b[1;32m---> 70\u001b[0m fact_sales[\u001b[38;5;124m\"\u001b[39m\u001b[38;5;124mTotalProfits\u001b[39m\u001b[38;5;124m\"\u001b[39m] \u001b[38;5;241m=\u001b[39m ((fact_sales[\u001b[38;5;124m\"\u001b[39m\u001b[38;5;124mUnitPrice\u001b[39m\u001b[38;5;124m\"\u001b[39m] \u001b[38;5;241m-\u001b[39m \u001b[43mfact_sales\u001b[49m\u001b[43m[\u001b[49m\u001b[38;5;124;43m\"\u001b[39;49m\u001b[38;5;124;43mCosts\u001b[39;49m\u001b[38;5;124;43m\"\u001b[39;49m\u001b[43m]\u001b[49m) \u001b[38;5;241m*\u001b[39m fact_sales[\u001b[38;5;124m\"\u001b[39m\u001b[38;5;124mquantity\u001b[39m\u001b[38;5;124m\"\u001b[39m]) \u001b[38;5;241m-\u001b[39m fact_sales[\u001b[38;5;124m\"\u001b[39m\u001b[38;5;124mUnitPriceDiscount\u001b[39m\u001b[38;5;124m\"\u001b[39m]\n\u001b[0;32m     72\u001b[0m fact_sales \u001b[38;5;241m=\u001b[39m fact_sales[[\n\u001b[0;32m     73\u001b[0m     \u001b[38;5;124m\"\u001b[39m\u001b[38;5;124mSalesOrderID\u001b[39m\u001b[38;5;124m\"\u001b[39m,\n\u001b[0;32m     74\u001b[0m     \u001b[38;5;124m\"\u001b[39m\u001b[38;5;124mCustomerID\u001b[39m\u001b[38;5;124m\"\u001b[39m,\n\u001b[1;32m   (...)\u001b[0m\n\u001b[0;32m     85\u001b[0m         \u001b[38;5;124m\"\u001b[39m\u001b[38;5;124mquantity\u001b[39m\u001b[38;5;124m\"\u001b[39m : \u001b[38;5;124m\"\u001b[39m\u001b[38;5;124mQuantity\u001b[39m\u001b[38;5;124m\"\u001b[39m\n\u001b[0;32m     86\u001b[0m     })\n\u001b[0;32m     88\u001b[0m \u001b[38;5;28;01mreturn\u001b[39;00m fact_sales\n",
      "File \u001b[1;32mc:\\Prog\\DataEngineeringP1-1\\.venv\\Lib\\site-packages\\pandas\\core\\frame.py:4102\u001b[0m, in \u001b[0;36mDataFrame.__getitem__\u001b[1;34m(self, key)\u001b[0m\n\u001b[0;32m   4100\u001b[0m \u001b[38;5;28;01mif\u001b[39;00m \u001b[38;5;28mself\u001b[39m\u001b[38;5;241m.\u001b[39mcolumns\u001b[38;5;241m.\u001b[39mnlevels \u001b[38;5;241m>\u001b[39m \u001b[38;5;241m1\u001b[39m:\n\u001b[0;32m   4101\u001b[0m     \u001b[38;5;28;01mreturn\u001b[39;00m \u001b[38;5;28mself\u001b[39m\u001b[38;5;241m.\u001b[39m_getitem_multilevel(key)\n\u001b[1;32m-> 4102\u001b[0m indexer \u001b[38;5;241m=\u001b[39m \u001b[38;5;28;43mself\u001b[39;49m\u001b[38;5;241;43m.\u001b[39;49m\u001b[43mcolumns\u001b[49m\u001b[38;5;241;43m.\u001b[39;49m\u001b[43mget_loc\u001b[49m\u001b[43m(\u001b[49m\u001b[43mkey\u001b[49m\u001b[43m)\u001b[49m\n\u001b[0;32m   4103\u001b[0m \u001b[38;5;28;01mif\u001b[39;00m is_integer(indexer):\n\u001b[0;32m   4104\u001b[0m     indexer \u001b[38;5;241m=\u001b[39m [indexer]\n",
      "File \u001b[1;32mc:\\Prog\\DataEngineeringP1-1\\.venv\\Lib\\site-packages\\pandas\\core\\indexes\\base.py:3812\u001b[0m, in \u001b[0;36mIndex.get_loc\u001b[1;34m(self, key)\u001b[0m\n\u001b[0;32m   3807\u001b[0m     \u001b[38;5;28;01mif\u001b[39;00m \u001b[38;5;28misinstance\u001b[39m(casted_key, \u001b[38;5;28mslice\u001b[39m) \u001b[38;5;129;01mor\u001b[39;00m (\n\u001b[0;32m   3808\u001b[0m         \u001b[38;5;28misinstance\u001b[39m(casted_key, abc\u001b[38;5;241m.\u001b[39mIterable)\n\u001b[0;32m   3809\u001b[0m         \u001b[38;5;129;01mand\u001b[39;00m \u001b[38;5;28many\u001b[39m(\u001b[38;5;28misinstance\u001b[39m(x, \u001b[38;5;28mslice\u001b[39m) \u001b[38;5;28;01mfor\u001b[39;00m x \u001b[38;5;129;01min\u001b[39;00m casted_key)\n\u001b[0;32m   3810\u001b[0m     ):\n\u001b[0;32m   3811\u001b[0m         \u001b[38;5;28;01mraise\u001b[39;00m InvalidIndexError(key)\n\u001b[1;32m-> 3812\u001b[0m     \u001b[38;5;28;01mraise\u001b[39;00m \u001b[38;5;167;01mKeyError\u001b[39;00m(key) \u001b[38;5;28;01mfrom\u001b[39;00m\u001b[38;5;250m \u001b[39m\u001b[38;5;21;01merr\u001b[39;00m\n\u001b[0;32m   3813\u001b[0m \u001b[38;5;28;01mexcept\u001b[39;00m \u001b[38;5;167;01mTypeError\u001b[39;00m:\n\u001b[0;32m   3814\u001b[0m     \u001b[38;5;66;03m# If we have a listlike key, _check_indexing_error will raise\u001b[39;00m\n\u001b[0;32m   3815\u001b[0m     \u001b[38;5;66;03m#  InvalidIndexError. Otherwise we fall through and re-raise\u001b[39;00m\n\u001b[0;32m   3816\u001b[0m     \u001b[38;5;66;03m#  the TypeError.\u001b[39;00m\n\u001b[0;32m   3817\u001b[0m     \u001b[38;5;28mself\u001b[39m\u001b[38;5;241m.\u001b[39m_check_indexing_error(key)\n",
      "\u001b[1;31mKeyError\u001b[0m: 'Costs'"
     ]
    }
   ],
   "source": [
    "def create_territory():\n",
    "    return sdm_frames[\"Territories\"]\n",
    "\n",
    "\n",
    "# def create_product():\n",
    "#     dim_product = sdm_frames[\"Production_Product\"].copy()\n",
    "\n",
    "#     dim_product = pd.merge(dim_product, sdm_frames[\"Production_ProductCategoryID\"], on=\"ProductCategoryID\")\n",
    "\n",
    "#     sdm_frames[\"Suppliers\"][\"SupplierID\"] = sdm_frames[\"Suppliers\"][\"SupplierID\"].astype(str)\n",
    "#     dim_product[\"SupplierID\"] = dim_product[\"SupplierID\"].astype(str)\n",
    "\n",
    "#     dim_product = pd.merge(dim_product, sdm_frames[\"Suppliers\"], on=\"SupplierID\", how=\"outer\")\n",
    "\n",
    "#     dim_product = dim_product[[\n",
    "#         \"ProductID\",\"NWProductID\", \"Name\", \"description\", \"Category\", \"Color\", \"CompanyName\", \"StandardCosts\", \"UnitPrice\"\n",
    "#     ]].rename(columns={\n",
    "#         \"StandardCost\": \"Costs\",\n",
    "#         \"description\": \"Description\"\n",
    "#     })\n",
    "\n",
    "#     dim_product = dim_product.dropna(subset=[\"ProductID\"])\n",
    "\n",
    "#     return dim_product\n",
    "\n",
    "\n",
    "def create_employee():\n",
    "    dim_employee = sdm_frames[\"Employee\"].copy()\n",
    "\n",
    "    dim_employee[\"EmpFullName\"] = dim_employee[\"emp_fname\"] + \" \" + dim_employee[\"emp_lname\"]\n",
    "\n",
    "    dim_employee = dim_employee[[\"emp_id\", \"manager_id\", \"EmpFullName\", \"Title\", \"start_date\", \"dept_id\"]].rename(columns={\n",
    "                                   \"emp_id\" : \"EmpID\",\n",
    "                                   \"manager_id\" : \"ManagerID\",\n",
    "                                   \"dept_id\" : \"DeptID\",\n",
    "                                   \"start_date\" : \"StartDate\"\n",
    "    })\n",
    "    return dim_employee\n",
    "\n",
    "def create_customer():\n",
    "    dim_customer = sdm_frames[\"Customer\"].copy()\n",
    "\n",
    "    dim_customer[\"FullName\"] = dim_customer[\"fname\"] + \" \" + dim_customer[\"lname\"]\n",
    "\n",
    "    dim_customer = dim_customer[[\n",
    "        \"id\", \"FullName\", \"address\", \"company_name\"\n",
    "    ]].rename(columns={\n",
    "        \"address\": \"Address\",\n",
    "        \"phone\": \"Phone\",\n",
    "        \"company_name\": \"CompanyName\"\n",
    "    })\n",
    "\n",
    "    dim_customer = dim_customer.drop_duplicates()\n",
    "\n",
    "    return dim_customer\n",
    "\n",
    "\n",
    "\n",
    "territory_dwh, customer_dwh, employee_dwh,= (\n",
    "    create_territory(),\n",
    "    create_customer(),\n",
    "    create_employee(),\n",
    ")\n",
    "\n",
    "\n",
    "def create_fact_sales ():\n",
    "    fact_sales = pd.merge(sdm_frames[\"Sales_SalesOrderDetail\"], sdm_frames[\"Sales_SalesOrderHeader\"], on=\"SalesOrderID\")\n",
    "\n",
    "    fact_sales[\"TotalSales\"] = (fact_sales[\"UnitPrice\"] * fact_sales[\"quantity\"]) - fact_sales[\"UnitPriceDiscount\"]\n",
    "    fact_sales[\"TotalProfits\"] = ((fact_sales[\"UnitPrice\"] - fact_sales[\"Costs\"]) * fact_sales[\"quantity\"]) - fact_sales[\"UnitPriceDiscount\"]\n",
    "\n",
    "    fact_sales = fact_sales[[\n",
    "        \"SalesOrderID\",\n",
    "        \"CustomerID\",\n",
    "        \"EmpID\",\n",
    "        \"ProductID\",\n",
    "        \"TerritoryID\",\n",
    "        \"OrderDate\",\n",
    "        \"UnitPrice\",\n",
    "        \"UnitPriceDiscount\",\n",
    "        \"quantity\",\n",
    "        \"TotalSales\",\n",
    "        \"TotalProfits\"\n",
    "        ]].rename(columns= {\n",
    "            \"quantity\" : \"Quantity\"\n",
    "        })\n",
    "    \n",
    "    return fact_sales\n",
    "\n",
    "fact_sales_dwh = create_fact_sales()\n"
   ]
  },
  {
   "cell_type": "code",
   "execution_count": null,
   "metadata": {},
   "outputs": [
    {
     "name": "stdout",
     "output_type": "stream",
     "text": [
      "ITEMS INSERTED\n"
     ]
    }
   ],
   "source": [
    "empty_dwh()\n",
    "\n",
    "tables = {\n",
    "    \"DimProduct\" : product_dwh,\n",
    "    \"DimCustomer\" : customer_dwh,\n",
    "    \"DimEmployee\" : employee_dwh,\n",
    "    \"DimTerritory\" : territory_dwh,\n",
    "    \"FactSales\" : fact_sales_dwh\n",
    "}\n",
    "allowed = True\n",
    "\n",
    "for key in tables:\n",
    "    for query in query_add(key, tables[key]):\n",
    "        try:\n",
    "            DWH_cursor.execute(query)\n",
    "        except pyodbc.Error as e:\n",
    "            print(query)\n",
    "            print(e)\n",
    "\n",
    "if allowed:\n",
    "    DWH_cursor.commit()\n",
    "    print(\"ITEMS INSERTED\")\n",
    "else:\n",
    "    DWH_cursor.rollback()\n",
    "    print(\"NOT ALLOWED TO COMMIT\")"
   ]
  }
 ],
 "metadata": {
  "kernelspec": {
   "display_name": ".venv",
   "language": "python",
   "name": "python3"
  },
  "language_info": {
   "codemirror_mode": {
    "name": "ipython",
    "version": 3
   },
   "file_extension": ".py",
   "mimetype": "text/x-python",
   "name": "python",
   "nbconvert_exporter": "python",
   "pygments_lexer": "ipython3",
   "version": "3.12.1"
  }
 },
 "nbformat": 4,
 "nbformat_minor": 2
}
