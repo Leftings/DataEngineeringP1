{
 "cells": [
  {
   "cell_type": "markdown",
   "metadata": {},
   "source": [
    "# DWH ETL"
   ]
  },
  {
   "cell_type": "markdown",
   "metadata": {},
   "source": [
    "Importeer dependencies:"
   ]
  },
  {
   "cell_type": "code",
   "execution_count": null,
   "metadata": {},
   "outputs": [],
   "source": [
    "import sqlite3\n",
    "import pandas as pd\n",
    "import pyodbc\n",
    "import re"
   ]
  },
  {
   "cell_type": "markdown",
   "metadata": {},
   "source": [
    "Connectie met SDM-database (import) en DWH-database (export) in SSMS:"
   ]
  },
  {
   "cell_type": "code",
   "execution_count": null,
   "metadata": {},
   "outputs": [],
   "source": [
    "DB_SDM = {\"servername\": r\"143.177.235.181\", \"database\": \"SDM_DEDS_P1\", \"username\": \"sa\", \"password\": \"Str0ngP@ssword\"}\n",
    "DB_DWH = {\"servername\": r\"143.177.235.181\", \"database\": \"Datawarehouse_DEDS_P2\", \"username\": \"sa\", \"password\": \"Str0ngP@ssword\"}\n",
    "import_conn = pyodbc.connect(\n",
    "    f\"DRIVER={{ODBC Driver 18 for SQL Server}};\"\n",
    "    f\"SERVER={DB_SDM['servername']};\"\n",
    "    f\"DATABASE={DB_SDM['database']};\"\n",
    "    f\"UID={DB_SDM['username']};\"\n",
    "    f\"PWD={DB_SDM['password']};\"\n",
    "    f\"Encrypt=yes;TrustServerCertificate=yes;\"\n",
    ")\n",
    "\n",
    "export_conn = pyodbc.connect(\n",
    "    f\"DRIVER={{ODBC Driver 18 for SQL Server}};\"\n",
    "    f\"SERVER={DB_DWH['servername']};\"\n",
    "    f\"DATABASE={DB_DWH['database']};\"\n",
    "    f\"UID={DB_DWH['username']};\"\n",
    "    f\"PWD={DB_DWH['password']};\"\n",
    "    f\"Encrypt=yes;TrustServerCertificate=yes;\"\n",
    ")"
   ]
  },
  {
   "cell_type": "markdown",
   "metadata": {},
   "source": [
    "DataFrames maken voor SDM-tables (Extract):"
   ]
  },
  {
   "cell_type": "code",
   "execution_count": null,
   "metadata": {},
   "outputs": [],
   "source": [
    "def create_dataframes_sql(connection):\n",
    "    dictionary : dict = {}\n",
    "    query : str = \"\"\n",
    "    key : str = \"\"\n",
    "\n",
    "    query = \"SELECT TABLE_NAME FROM INFORMATION_SCHEMA.TABLES WHERE TABLE_TYPE = 'BASE TABLE';\"\n",
    "    key = \"TABLE_NAME\"\n",
    "\n",
    "    table_names = pd.read_sql(query, connection)\n",
    "\n",
    "    for table in table_names[key].tolist():\n",
    "        try:\n",
    "            dictionary[table] = pd.read_sql(f\"SELECT * FROM {table}\", connection)\n",
    "        except Exception as e:\n",
    "            print(f\"Error reading {table}: {e}\")\n",
    "            continue\n",
    "\n",
    "    return dictionary\n",
    "\n",
    "sdm = create_dataframes_sql(import_conn)"
   ]
  },
  {
   "cell_type": "markdown",
   "metadata": {},
   "source": [
    "TRANSFORMeren naar DWH-model:"
   ]
  },
  {
   "cell_type": "code",
   "execution_count": null,
   "metadata": {},
   "outputs": [],
   "source": []
  }
 ],
 "metadata": {
  "kernelspec": {
   "display_name": ".venv",
   "language": "python",
   "name": "python3"
  },
  "language_info": {
   "name": "python",
   "version": "3.13.2"
  }
 },
 "nbformat": 4,
 "nbformat_minor": 2
}
