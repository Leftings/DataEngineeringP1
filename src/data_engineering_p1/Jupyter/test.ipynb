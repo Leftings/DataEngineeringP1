{
 "cells": [
  {
   "cell_type": "code",
   "execution_count": 2,
   "metadata": {},
   "outputs": [],
   "source": [
    "import pandas as pd\n",
    "import pyodbc\n",
    "import warnings\n",
    "from datetime import datetime\n",
    "\n",
    "warnings.simplefilter('ignore')"
   ]
  },
  {
   "cell_type": "code",
   "execution_count": 6,
   "metadata": {},
   "outputs": [],
   "source": [
    "FROM_DB_PATH = r\"..\\\\..\\\\..\\\\Data\\\\Raw\\\\Sqlite\\\\AdventureWorks.mdb\"\n",
    "\n",
    "FROM_DB_CONN_PATH = r\"DRIVER={Microsoft Access Driver (*.mdb, *.accdb)};DBQ=\" + FROM_DB_PATH\n",
    "\n",
    "TO_DB_CONN_PATH = r\"DRIVER={SQL Server};SERVER=143.177.235.181,1433;DATABASE=AdventureWorks;UID=SA;PWD=Str0ngP@ssword\"\n",
    "\n",
    "FROM_DB = pyodbc.connect(FROM_DB_CONN_PATH)\n",
    "import_cursor = FROM_DB.cursor()\n",
    "\n",
    "TO_DB = pyodbc.connect(TO_DB_CONN_PATH)\n",
    "export_cursor = TO_DB.cursor()"
   ]
  },
  {
   "cell_type": "code",
   "execution_count": 12,
   "metadata": {},
   "outputs": [],
   "source": [
    "tables = [\"HumanResources_Department\", \"HumanResources_Employee\", \"Person_Address\", \"Person_Person\", \"Production_BillOfMaterials\",\"Production_Product\",\n",
    "          \"Production_ProductCategory\",\"Purchasing_PurchaseOrderDetail\",\"Purchasing_PurchaseOrderHeader\",\"Purchasing_Vendor\",\"Sales_Customer\",\n",
    "          \"Sales_SalesOrderDetail\",\"Sales_SalesOrderHeader\",\"Sales_SalesTerritory\",\"Sales_Store\"]"
   ]
  },
  {
   "cell_type": "code",
   "execution_count": 16,
   "metadata": {},
   "outputs": [
    {
     "name": "stdout",
     "output_type": "stream",
     "text": [
      "Fout bij tabel HumanResources_Department + ('42S02', \"[42S02] [Microsoft][ODBC SQL Server Driver][SQL Server]Invalid object name 'HumanResources_Department'. (208) (SQLExecute); [42S02] [Microsoft][ODBC SQL Server Driver][SQL Server]Statement(s) could not be prepared. (8180)\")\n",
      "Fout bij tabel HumanResources_Employee + ('42S02', \"[42S02] [Microsoft][ODBC SQL Server Driver][SQL Server]Invalid object name 'HumanResources_Employee'. (208) (SQLExecute); [42S02] [Microsoft][ODBC SQL Server Driver][SQL Server]Statement(s) could not be prepared. (8180)\")\n",
      "Fout bij tabel Person_Address + ('42S02', \"[42S02] [Microsoft][ODBC SQL Server Driver][SQL Server]Invalid object name 'Person_Address'. (208) (SQLExecute); [42S02] [Microsoft][ODBC SQL Server Driver][SQL Server]Statement(s) could not be prepared. (8180)\")\n",
      "Fout bij tabel Person_Person + ('42S02', \"[42S02] [Microsoft][ODBC SQL Server Driver][SQL Server]Invalid object name 'Person_Person'. (208) (SQLExecute); [42S02] [Microsoft][ODBC SQL Server Driver][SQL Server]Statement(s) could not be prepared. (8180)\")\n",
      "Fout bij tabel Production_BillOfMaterials + ('42S02', \"[42S02] [Microsoft][ODBC SQL Server Driver][SQL Server]Invalid object name 'Production_BillOfMaterials'. (208) (SQLExecute); [42S02] [Microsoft][ODBC SQL Server Driver][SQL Server]Statement(s) could not be prepared. (8180)\")\n",
      "Fout bij tabel Production_Product + ('42S02', \"[42S02] [Microsoft][ODBC SQL Server Driver][SQL Server]Invalid object name 'Production_Product'. (208) (SQLExecute); [42S02] [Microsoft][ODBC SQL Server Driver][SQL Server]Statement(s) could not be prepared. (8180)\")\n",
      "Fout bij tabel Production_ProductCategory + ('42S02', \"[42S02] [Microsoft][ODBC SQL Server Driver][SQL Server]Invalid object name 'Production_ProductCategory'. (208) (SQLExecute); [42S02] [Microsoft][ODBC SQL Server Driver][SQL Server]Statement(s) could not be prepared. (8180)\")\n",
      "Fout bij tabel Purchasing_PurchaseOrderDetail + ('Converting decimal loses precision', 'HY000')\n",
      "Fout bij tabel Purchasing_PurchaseOrderHeader + ('Converting decimal loses precision', 'HY000')\n",
      "Fout bij tabel Purchasing_Vendor + ('42S02', \"[42S02] [Microsoft][ODBC SQL Server Driver][SQL Server]Invalid object name 'Purchasing_Vendor'. (208) (SQLExecute); [42S02] [Microsoft][ODBC SQL Server Driver][SQL Server]Statement(s) could not be prepared. (8180)\")\n",
      "Fout bij tabel Sales_Customer + ('42S02', \"[42S02] [Microsoft][ODBC SQL Server Driver][SQL Server]Invalid object name 'Sales_Customer'. (208) (SQLExecute); [42S02] [Microsoft][ODBC SQL Server Driver][SQL Server]Statement(s) could not be prepared. (8180)\")\n",
      "Fout bij tabel Sales_SalesOrderDetail + ('Converting decimal loses precision', 'HY000')\n",
      "Fout bij tabel Sales_SalesOrderHeader + ('Converting decimal loses precision', 'HY000')\n",
      "Fout bij tabel Sales_SalesTerritory + ('Converting decimal loses precision', 'HY000')\n",
      "Fout bij tabel Sales_Store + ('42S02', \"[42S02] [Microsoft][ODBC SQL Server Driver][SQL Server]Invalid object name 'Sales_Store'. (208) (SQLExecute); [42S02] [Microsoft][ODBC SQL Server Driver][SQL Server]Statement(s) could not be prepared. (8180)\")\n"
     ]
    }
   ],
   "source": [
    "for table in tables:\n",
    "    try:\n",
    "        import_cursor.execute(f\"SELECT * FROM {table}\")\n",
    "        columns = [column[0] for column in import_cursor.description]\n",
    "\n",
    "        rows = import_cursor.fetchall()\n",
    "        if not rows:\n",
    "            print(f\"Geen data voor {table}\")\n",
    "            continue\n",
    "\n",
    "        placeholders = \", \".join([\"?\" for _ in columns])\n",
    "        insert_query = f\"INSERT INTO {table} ({', '.join(columns)}) VALUES ({placeholders})\"\n",
    "\n",
    "        export_cursor.fast_executemany = True\n",
    "        export_cursor.executemany(insert_query, rows)\n",
    "        TO_DB.commit()\n",
    "\n",
    "        print(f\"Tabel {table} voltooid.\")\n",
    "\n",
    "    except Exception as e:\n",
    "        print(f\"Fout bij tabel {table} + {e}\")"
   ]
  }
 ],
 "metadata": {
  "kernelspec": {
   "display_name": ".venv",
   "language": "python",
   "name": "python3"
  },
  "language_info": {
   "codemirror_mode": {
    "name": "ipython",
    "version": 3
   },
   "file_extension": ".py",
   "mimetype": "text/x-python",
   "name": "python",
   "nbconvert_exporter": "python",
   "pygments_lexer": "ipython3",
   "version": "3.12.1"
  }
 },
 "nbformat": 4,
 "nbformat_minor": 2
}
